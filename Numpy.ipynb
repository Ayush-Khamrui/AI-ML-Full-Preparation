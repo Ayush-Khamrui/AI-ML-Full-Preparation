{
  "nbformat": 4,
  "nbformat_minor": 0,
  "metadata": {
    "colab": {
      "provenance": [],
      "authorship_tag": "ABX9TyNzhQnIqoBe86uNBq3QoXw3",
      "include_colab_link": true
    },
    "kernelspec": {
      "name": "python3",
      "display_name": "Python 3"
    },
    "language_info": {
      "name": "python"
    }
  },
  "cells": [
    {
      "cell_type": "markdown",
      "metadata": {
        "id": "view-in-github",
        "colab_type": "text"
      },
      "source": [
        "<a href=\"https://colab.research.google.com/github/Ayush-Khamrui/AI-ML-Full-Preparation/blob/main/Numpy.ipynb\" target=\"_parent\"><img src=\"https://colab.research.google.com/assets/colab-badge.svg\" alt=\"Open In Colab\"/></a>"
      ]
    },
    {
      "cell_type": "markdown",
      "source": [
        "# Numpy\n",
        "\n",
        "### Definition:\n",
        "\n",
        "NumPy is a Python library used for working with arrays. It also has functions for working in domain of linear algebra, fourier transform, and matrices.\n",
        "\n",
        "### Use Cases in Machine Learning and Data Science:\n",
        "\n",
        "**Machine Learning:** NumPy arrays are used to store and manipulate data for training machine learning models, like representing images, audio and text as numerical data.\n",
        "**Data Science:** Used for data cleaning, transformation, and analysis, NumPy can be used to calculate statistics, reshape datasets, and perform mathematical operations on data.\n",
        "\n",
        "### Role in Exploratory Data Analysis (EDA):\n",
        "\n",
        "NumPy is used in EDA for tasks like calculating descriptive statistics (mean, median, standard deviation), identifying outliers, handling missing values and data manipulation before modeling."
      ],
      "metadata": {
        "id": "NZRmjV9iyXX0"
      }
    },
    {
      "cell_type": "markdown",
      "source": [
        "## Import Numpy"
      ],
      "metadata": {
        "id": "hU_T73VMzT9c"
      }
    },
    {
      "cell_type": "code",
      "execution_count": 2,
      "metadata": {
        "id": "k70nulXKydkQ"
      },
      "outputs": [],
      "source": [
        "import numpy as np"
      ]
    },
    {
      "cell_type": "markdown",
      "source": [
        "## Basics of Numpy"
      ],
      "metadata": {
        "id": "hzHQ2M0NzdW5"
      }
    },
    {
      "cell_type": "markdown",
      "source": [
        "**Why Numpy arrays are used?**\n",
        "\n",
        "**Homogeneity:** NumPy arrays are homogeneous, meaning they can only contain elements of the same data type. Python lists are heterogeneous, meaning they can contain elements of different data types.\n",
        "\n",
        "**Performance:** NumPy arrays are significantly faster and more efficient for numerical computations than Python lists. This is because NumPy arrays are stored in contiguous memory blocks, which allows for faster access and manipulation of data.\n",
        "\n",
        "**Functionality:** NumPy provides a wide range of mathematical and scientific functions that can be applied to arrays, such as linear algebra operations, Fourier transforms, and random number generation. Python lists have limited built-in functionality for numerical computations.\n",
        "\n",
        "**Memory:** NumPy arrays are more memory-efficient than Python lists, especially for large datasets. This is because NumPy arrays store data in a more compact format."
      ],
      "metadata": {
        "id": "UIRdRPSpzkIE"
      }
    },
    {
      "cell_type": "code",
      "source": [
        "# Creating a Numpy Array of 2-dimension\n",
        "a = np.array([[1,2,3],[4,5,6]])\n",
        "print(type(a))\n",
        "print(a)"
      ],
      "metadata": {
        "colab": {
          "base_uri": "https://localhost:8080/"
        },
        "id": "5OzO7Pihyohn",
        "outputId": "8af05245-44a8-4abd-f112-d8855932d6cd"
      },
      "execution_count": 3,
      "outputs": [
        {
          "output_type": "stream",
          "name": "stdout",
          "text": [
            "<class 'numpy.ndarray'>\n",
            "[[1 2 3]\n",
            " [4 5 6]]\n"
          ]
        }
      ]
    },
    {
      "cell_type": "code",
      "source": [
        "# Count the number of elements in the Numpy Array\n",
        "a.size"
      ],
      "metadata": {
        "colab": {
          "base_uri": "https://localhost:8080/"
        },
        "id": "ktfiQK8bzA4P",
        "outputId": "c75ed66f-6961-43a9-814d-d49c2abd8a4f"
      },
      "execution_count": null,
      "outputs": [
        {
          "output_type": "execute_result",
          "data": {
            "text/plain": [
              "6"
            ]
          },
          "metadata": {},
          "execution_count": 20
        }
      ]
    },
    {
      "cell_type": "code",
      "source": [
        "# Know the shape of the Numpy Array and in which fashion. 1D, 2D, 3D, ...\n",
        "a.shape"
      ],
      "metadata": {
        "colab": {
          "base_uri": "https://localhost:8080/"
        },
        "id": "U_OckT7yzM2a",
        "outputId": "abec87a9-ecd5-4c49-c132-e288e0acca80"
      },
      "execution_count": null,
      "outputs": [
        {
          "output_type": "execute_result",
          "data": {
            "text/plain": [
              "(2, 3)"
            ]
          },
          "metadata": {},
          "execution_count": 36
        }
      ]
    },
    {
      "cell_type": "code",
      "source": [
        "# Check the data type of the Numpy Array\n",
        "a.dtype"
      ],
      "metadata": {
        "colab": {
          "base_uri": "https://localhost:8080/"
        },
        "id": "eLEX56JZzegL",
        "outputId": "dc52c986-4c39-485c-e9eb-b0f98e169523"
      },
      "execution_count": null,
      "outputs": [
        {
          "output_type": "execute_result",
          "data": {
            "text/plain": [
              "dtype('int64')"
            ]
          },
          "metadata": {},
          "execution_count": 37
        }
      ]
    },
    {
      "cell_type": "code",
      "source": [
        "# Transpose the Numpy Array\n",
        "a.transpose()"
      ],
      "metadata": {
        "colab": {
          "base_uri": "https://localhost:8080/"
        },
        "id": "dtyp71eDzmz0",
        "outputId": "0997923d-0607-4ddf-bb2c-42aaf0d25b0f"
      },
      "execution_count": null,
      "outputs": [
        {
          "output_type": "execute_result",
          "data": {
            "text/plain": [
              "array([[1, 4],\n",
              "       [2, 5],\n",
              "       [3, 6]])"
            ]
          },
          "metadata": {},
          "execution_count": 38
        }
      ]
    },
    {
      "cell_type": "code",
      "source": [
        "# Create a Empty Numpy Array.\n",
        "# The shape is defined within a tuple\n",
        "# dtype defines the data type of the elements within the Numpy Array\n",
        "# The resultant Numpy Array have random numbers with the following shape.\n",
        "np.empty((4,5,2),dtype=float)"
      ],
      "metadata": {
        "colab": {
          "base_uri": "https://localhost:8080/"
        },
        "id": "xyEM5VLK39rw",
        "outputId": "5305d393-3015-44bb-cba6-bb67554e5356"
      },
      "execution_count": null,
      "outputs": [
        {
          "output_type": "execute_result",
          "data": {
            "text/plain": [
              "array([[[4.42833410e-316, 0.00000000e+000],\n",
              "        [5.42978145e-321, 0.00000000e+000],\n",
              "        [8.10267659e-322, 4.48782356e-316],\n",
              "        [0.00000000e+000, 4.48782751e-316],\n",
              "        [0.00000000e+000, 4.94065646e-324]],\n",
              "\n",
              "       [[4.48782869e-316, 4.48779273e-316],\n",
              "        [9.88131292e-324, 4.48782988e-316],\n",
              "        [4.48776703e-316, 4.48779273e-316],\n",
              "        [1.28457068e-322, 4.48782909e-316],\n",
              "        [4.94065646e-324, 4.48782909e-316]],\n",
              "\n",
              "       [[3.81959243e-313, 1.06099790e-313],\n",
              "        [5.80527134e-321, 0.00000000e+000],\n",
              "        [7.90505033e-322, 4.48777889e-316],\n",
              "        [5.78550871e-321, 0.00000000e+000],\n",
              "        [7.90505033e-322, 4.48783304e-316]],\n",
              "\n",
              "       [[5.78056806e-321, 0.00000000e+000],\n",
              "        [7.90505033e-322, 4.48783462e-316],\n",
              "        [1.69759669e-313, 0.00000000e+000],\n",
              "        [7.85564377e-322, 4.48775320e-316],\n",
              "        [8.48798345e-314, 0.00000000e+000]]])"
            ]
          },
          "metadata": {},
          "execution_count": 39
        }
      ]
    },
    {
      "cell_type": "code",
      "source": [
        "# Create 1D Numpy Array with all ones\n",
        "np.ones(6)"
      ],
      "metadata": {
        "colab": {
          "base_uri": "https://localhost:8080/"
        },
        "id": "V8gIK0c0vp24",
        "outputId": "122255fa-df7c-4514-d0e9-41b7d88b5d29"
      },
      "execution_count": null,
      "outputs": [
        {
          "output_type": "execute_result",
          "data": {
            "text/plain": [
              "array([1., 1., 1., 1., 1., 1.])"
            ]
          },
          "metadata": {},
          "execution_count": 25
        }
      ]
    },
    {
      "cell_type": "code",
      "source": [
        "# Create 2D Numpy Array with all ones\n",
        "np.ones((2,3),dtype=int)"
      ],
      "metadata": {
        "colab": {
          "base_uri": "https://localhost:8080/"
        },
        "id": "XCGqBLI2wXSx",
        "outputId": "58652048-8204-46de-e54a-84efee5e6663"
      },
      "execution_count": null,
      "outputs": [
        {
          "output_type": "execute_result",
          "data": {
            "text/plain": [
              "array([[1, 1, 1],\n",
              "       [1, 1, 1]])"
            ]
          },
          "metadata": {},
          "execution_count": 26
        }
      ]
    },
    {
      "cell_type": "code",
      "source": [
        "# Create 1D Numpy Array with all zeros\n",
        "np.zeros(6)"
      ],
      "metadata": {
        "colab": {
          "base_uri": "https://localhost:8080/"
        },
        "id": "xXEu7v-ewmxn",
        "outputId": "5b0d85be-282a-481e-ae6c-18e483842a02"
      },
      "execution_count": null,
      "outputs": [
        {
          "output_type": "execute_result",
          "data": {
            "text/plain": [
              "array([0., 0., 0., 0., 0., 0.])"
            ]
          },
          "metadata": {},
          "execution_count": 27
        }
      ]
    },
    {
      "cell_type": "code",
      "source": [
        "# Create 2D Numpy Array with all zeros\n",
        "np.zeros((2,3),dtype=int)"
      ],
      "metadata": {
        "colab": {
          "base_uri": "https://localhost:8080/"
        },
        "id": "GYbkGzl_wurI",
        "outputId": "12778a06-2bf2-42e7-d8a4-35c7640aaf70"
      },
      "execution_count": null,
      "outputs": [
        {
          "output_type": "execute_result",
          "data": {
            "text/plain": [
              "array([[0, 0, 0],\n",
              "       [0, 0, 0]])"
            ]
          },
          "metadata": {},
          "execution_count": 28
        }
      ]
    },
    {
      "cell_type": "code",
      "source": [
        "# We can perform mathematical operations\n",
        "np.ones((2,3),dtype=float)*5"
      ],
      "metadata": {
        "colab": {
          "base_uri": "https://localhost:8080/"
        },
        "id": "MzUEGs0Sx6hL",
        "outputId": "635cc394-1aff-411c-c383-f34dcd55f5c7"
      },
      "execution_count": null,
      "outputs": [
        {
          "output_type": "execute_result",
          "data": {
            "text/plain": [
              "array([[5., 5., 5.],\n",
              "       [5., 5., 5.]])"
            ]
          },
          "metadata": {},
          "execution_count": 40
        }
      ]
    },
    {
      "cell_type": "code",
      "source": [
        "# Str is another data type that can be used\n",
        "np.ones((2,3),dtype=str)"
      ],
      "metadata": {
        "colab": {
          "base_uri": "https://localhost:8080/"
        },
        "id": "ulYneTbEyAOh",
        "outputId": "48b6888f-85fb-4755-f481-6bad129efd72"
      },
      "execution_count": null,
      "outputs": [
        {
          "output_type": "execute_result",
          "data": {
            "text/plain": [
              "array([['1', '1', '1'],\n",
              "       ['1', '1', '1']], dtype='<U1')"
            ]
          },
          "metadata": {},
          "execution_count": 30
        }
      ]
    },
    {
      "cell_type": "code",
      "source": [
        "np.zeros((2,3),dtype=str)"
      ],
      "metadata": {
        "colab": {
          "base_uri": "https://localhost:8080/"
        },
        "id": "q9ahkxQbyNgi",
        "outputId": "239b2df9-e3d3-46bc-f242-a00c38c37adc"
      },
      "execution_count": null,
      "outputs": [
        {
          "output_type": "execute_result",
          "data": {
            "text/plain": [
              "array([['', '', ''],\n",
              "       ['', '', '']], dtype='<U1')"
            ]
          },
          "metadata": {},
          "execution_count": 33
        }
      ]
    },
    {
      "cell_type": "code",
      "source": [
        "# bool is another data type that can be used to get the array in true or false\n",
        "np.ones((2,3),dtype=bool)"
      ],
      "metadata": {
        "colab": {
          "base_uri": "https://localhost:8080/"
        },
        "id": "2J0WeLV0yGhW",
        "outputId": "6cf02599-d68c-4684-9766-6cca1c531487"
      },
      "execution_count": null,
      "outputs": [
        {
          "output_type": "execute_result",
          "data": {
            "text/plain": [
              "array([[ True,  True,  True],\n",
              "       [ True,  True,  True]])"
            ]
          },
          "metadata": {},
          "execution_count": 31
        }
      ]
    },
    {
      "cell_type": "code",
      "source": [
        "np.zeros((2,3),dtype=bool)"
      ],
      "metadata": {
        "colab": {
          "base_uri": "https://localhost:8080/"
        },
        "id": "Up7p0he-yJsd",
        "outputId": "5ce6a6db-9424-4422-b431-0ffe1893e0d6"
      },
      "execution_count": null,
      "outputs": [
        {
          "output_type": "execute_result",
          "data": {
            "text/plain": [
              "array([[False, False, False],\n",
              "       [False, False, False]])"
            ]
          },
          "metadata": {},
          "execution_count": 32
        }
      ]
    }
  ]
}